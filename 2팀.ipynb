{
 "cells": [
  {
   "cell_type": "code",
   "execution_count": 81,
   "metadata": {
    "id": "DJQ9ymuxjVJ0"
   },
   "outputs": [],
   "source": [
    "import warnings\n",
    "warnings.filterwarnings(\"ignore\")\n",
    "\n",
    "import pandas as pd\n",
    "import numpy as np\n",
    "import matplotlib.pyplot as plt"
   ]
  },
  {
   "cell_type": "markdown",
   "metadata": {},
   "source": [
    "# 1. Data Preparing"
   ]
  },
  {
   "cell_type": "markdown",
   "metadata": {},
   "source": [
    "## 1) Dataset 불러오기"
   ]
  },
  {
   "cell_type": "code",
   "execution_count": 82,
   "metadata": {
    "colab": {
     "base_uri": "https://localhost:8080/",
     "height": 419
    },
    "id": "juCQGEKrjl2c",
    "outputId": "3037a86a-65a3-4f26-d0f8-dcceb87bbe29"
   },
   "outputs": [],
   "source": [
    "# 데이터 불러오기\n",
    "data_df = pd.read_csv('titanic.csv')"
   ]
  },
  {
   "cell_type": "code",
   "execution_count": 83,
   "metadata": {},
   "outputs": [],
   "source": [
    "# 중복값 삭제(ticket 기준)\n",
    "data_df = data_df.drop_duplicates(['Ticket'],keep='first')"
   ]
  },
  {
   "cell_type": "code",
   "execution_count": 84,
   "metadata": {},
   "outputs": [],
   "source": [
    "# 결측값 있는 열(Embarked)의 행 삭제\n",
    "data_df.dropna(subset = [\"Embarked\"], inplace=True)"
   ]
  },
  {
   "cell_type": "code",
   "execution_count": 85,
   "metadata": {},
   "outputs": [
    {
     "name": "stdout",
     "output_type": "stream",
     "text": [
      "<class 'pandas.core.frame.DataFrame'>\n",
      "Int64Index: 680 entries, 0 to 890\n",
      "Data columns (total 12 columns):\n",
      "PassengerId    680 non-null int64\n",
      "Survived       680 non-null int64\n",
      "Pclass         680 non-null int64\n",
      "Name           680 non-null object\n",
      "Sex            680 non-null object\n",
      "Age            533 non-null float64\n",
      "SibSp          680 non-null int64\n",
      "Parch          680 non-null int64\n",
      "Ticket         680 non-null object\n",
      "Fare           680 non-null float64\n",
      "Cabin          136 non-null object\n",
      "Embarked       680 non-null object\n",
      "dtypes: float64(2), int64(5), object(5)\n",
      "memory usage: 69.1+ KB\n"
     ]
    }
   ],
   "source": [
    "data_df.info()"
   ]
  },
  {
   "cell_type": "code",
   "execution_count": 86,
   "metadata": {},
   "outputs": [],
   "source": [
    "# x,y data 만들기\n",
    "y_data = data_df[['Survived']]\n",
    "del data_df['Survived']\n",
    "x_data = data_df.copy()"
   ]
  },
  {
   "cell_type": "markdown",
   "metadata": {},
   "source": [
    "## 2) Data 전처리"
   ]
  },
  {
   "cell_type": "code",
   "execution_count": 87,
   "metadata": {},
   "outputs": [],
   "source": [
    "# 필요없는 열 지우기\n",
    "del x_data['PassengerId']\n",
    "del x_data['Ticket']\n",
    "del x_data['Name']\n",
    "\n",
    "# Sex (남자=1 여자=0)\n",
    "x_data['Sex'].replace(['female','male'],[0,1],inplace=True)\n",
    "x_data.head()\n",
    "\n",
    "# Cabin\n",
    "x_data[['Cabin']] = x_data[['Cabin']].fillna(value='0')\n",
    "x_data['Cabin']=x_data['Cabin'].str[:1]\n",
    "x_data['Cabin'].replace([ '0','A','B', 'C','D','E','F','G','T'],[0,1,2,3,4,5,6,7,8],inplace=True)\n",
    "\n",
    "#Embarked \n",
    "x_data['Embarked'].replace(['S','C', 'Q'],[0,1,2],inplace=True)\n",
    "x_data['Embarked'] = x_data['Embarked'].astype(int)\n",
    "\n",
    "# Age (Pclass 각 그룹별 평균값으로 결측치 채우기)\n",
    "age_mean= x_data.groupby('Pclass').agg({'Age': np.mean})\n",
    "age_mean = age_mean['Age'].to_dict()\n",
    "\n",
    "Pclass1_age = x_data[x_data['Pclass'] ==1 ]['Age'].fillna(age_mean[1])\n",
    "Pclass2_age = x_data[x_data['Pclass'] ==2 ]['Age'].fillna(age_mean[2]) \n",
    "Pclass3_age = x_data[x_data['Pclass'] ==3 ]['Age'].fillna(age_mean[3])\n",
    "\n",
    "filled_age  = pd.concat([Pclass1_age,Pclass2_age], axis=0)\n",
    "filled_age  = pd.concat([filled_age,Pclass3_age], axis=0) \n",
    "\n",
    "x_data['Age'] = filled_age\n",
    "x_data['Age'] = x_data['Age'].round().astype(int)\n",
    "\n",
    "# Fare\n",
    "x_data['Fare'] = x_data['Fare'].round().astype(int)"
   ]
  },
  {
   "cell_type": "code",
   "execution_count": 88,
   "metadata": {
    "id": "KaX_ehHfyVco"
   },
   "outputs": [],
   "source": [
    "# data_x_test = data_x[data_x['Pclass']==1]\n",
    "# data_x_test_mean_age_1 = data_x_test['Age'].mean()"
   ]
  },
  {
   "cell_type": "code",
   "execution_count": 89,
   "metadata": {
    "colab": {
     "base_uri": "https://localhost:8080/",
     "height": 297
    },
    "id": "rrI-QylZEUDm",
    "outputId": "e2566863-ad85-48cc-cca6-2973c357a00c"
   },
   "outputs": [
    {
     "data": {
      "text/html": [
       "<div>\n",
       "<style scoped>\n",
       "    .dataframe tbody tr th:only-of-type {\n",
       "        vertical-align: middle;\n",
       "    }\n",
       "\n",
       "    .dataframe tbody tr th {\n",
       "        vertical-align: top;\n",
       "    }\n",
       "\n",
       "    .dataframe thead th {\n",
       "        text-align: right;\n",
       "    }\n",
       "</style>\n",
       "<table border=\"1\" class=\"dataframe\">\n",
       "  <thead>\n",
       "    <tr style=\"text-align: right;\">\n",
       "      <th></th>\n",
       "      <th>Pclass</th>\n",
       "      <th>Sex</th>\n",
       "      <th>Age</th>\n",
       "      <th>SibSp</th>\n",
       "      <th>Parch</th>\n",
       "      <th>Fare</th>\n",
       "      <th>Cabin</th>\n",
       "      <th>Embarked</th>\n",
       "    </tr>\n",
       "  </thead>\n",
       "  <tbody>\n",
       "    <tr>\n",
       "      <th>count</th>\n",
       "      <td>680.000000</td>\n",
       "      <td>680.000000</td>\n",
       "      <td>680.000000</td>\n",
       "      <td>680.000000</td>\n",
       "      <td>680.000000</td>\n",
       "      <td>680.000000</td>\n",
       "      <td>680.000000</td>\n",
       "      <td>680.000000</td>\n",
       "    </tr>\n",
       "    <tr>\n",
       "      <th>mean</th>\n",
       "      <td>2.364706</td>\n",
       "      <td>0.698529</td>\n",
       "      <td>30.604412</td>\n",
       "      <td>0.275000</td>\n",
       "      <td>0.205882</td>\n",
       "      <td>23.210294</td>\n",
       "      <td>0.695588</td>\n",
       "      <td>0.370588</td>\n",
       "    </tr>\n",
       "    <tr>\n",
       "      <th>std</th>\n",
       "      <td>0.813684</td>\n",
       "      <td>0.459234</td>\n",
       "      <td>12.374887</td>\n",
       "      <td>0.670848</td>\n",
       "      <td>0.586013</td>\n",
       "      <td>36.919467</td>\n",
       "      <td>1.551277</td>\n",
       "      <td>0.654217</td>\n",
       "    </tr>\n",
       "    <tr>\n",
       "      <th>min</th>\n",
       "      <td>1.000000</td>\n",
       "      <td>0.000000</td>\n",
       "      <td>0.000000</td>\n",
       "      <td>0.000000</td>\n",
       "      <td>0.000000</td>\n",
       "      <td>0.000000</td>\n",
       "      <td>0.000000</td>\n",
       "      <td>0.000000</td>\n",
       "    </tr>\n",
       "    <tr>\n",
       "      <th>25%</th>\n",
       "      <td>2.000000</td>\n",
       "      <td>0.000000</td>\n",
       "      <td>24.000000</td>\n",
       "      <td>0.000000</td>\n",
       "      <td>0.000000</td>\n",
       "      <td>8.000000</td>\n",
       "      <td>0.000000</td>\n",
       "      <td>0.000000</td>\n",
       "    </tr>\n",
       "    <tr>\n",
       "      <th>50%</th>\n",
       "      <td>3.000000</td>\n",
       "      <td>1.000000</td>\n",
       "      <td>27.000000</td>\n",
       "      <td>0.000000</td>\n",
       "      <td>0.000000</td>\n",
       "      <td>10.000000</td>\n",
       "      <td>0.000000</td>\n",
       "      <td>0.000000</td>\n",
       "    </tr>\n",
       "    <tr>\n",
       "      <th>75%</th>\n",
       "      <td>3.000000</td>\n",
       "      <td>1.000000</td>\n",
       "      <td>37.000000</td>\n",
       "      <td>0.000000</td>\n",
       "      <td>0.000000</td>\n",
       "      <td>26.000000</td>\n",
       "      <td>0.000000</td>\n",
       "      <td>1.000000</td>\n",
       "    </tr>\n",
       "    <tr>\n",
       "      <th>max</th>\n",
       "      <td>3.000000</td>\n",
       "      <td>1.000000</td>\n",
       "      <td>80.000000</td>\n",
       "      <td>8.000000</td>\n",
       "      <td>5.000000</td>\n",
       "      <td>512.000000</td>\n",
       "      <td>8.000000</td>\n",
       "      <td>2.000000</td>\n",
       "    </tr>\n",
       "  </tbody>\n",
       "</table>\n",
       "</div>"
      ],
      "text/plain": [
       "           Pclass         Sex         Age       SibSp       Parch        Fare  \\\n",
       "count  680.000000  680.000000  680.000000  680.000000  680.000000  680.000000   \n",
       "mean     2.364706    0.698529   30.604412    0.275000    0.205882   23.210294   \n",
       "std      0.813684    0.459234   12.374887    0.670848    0.586013   36.919467   \n",
       "min      1.000000    0.000000    0.000000    0.000000    0.000000    0.000000   \n",
       "25%      2.000000    0.000000   24.000000    0.000000    0.000000    8.000000   \n",
       "50%      3.000000    1.000000   27.000000    0.000000    0.000000   10.000000   \n",
       "75%      3.000000    1.000000   37.000000    0.000000    0.000000   26.000000   \n",
       "max      3.000000    1.000000   80.000000    8.000000    5.000000  512.000000   \n",
       "\n",
       "            Cabin    Embarked  \n",
       "count  680.000000  680.000000  \n",
       "mean     0.695588    0.370588  \n",
       "std      1.551277    0.654217  \n",
       "min      0.000000    0.000000  \n",
       "25%      0.000000    0.000000  \n",
       "50%      0.000000    0.000000  \n",
       "75%      0.000000    1.000000  \n",
       "max      8.000000    2.000000  "
      ]
     },
     "execution_count": 89,
     "metadata": {},
     "output_type": "execute_result"
    }
   ],
   "source": [
    "x_data.describe()"
   ]
  },
  {
   "cell_type": "code",
   "execution_count": 90,
   "metadata": {
    "colab": {
     "base_uri": "https://localhost:8080/"
    },
    "id": "0qu0J0oSFLDQ",
    "outputId": "8390bfb8-a916-42af-ebe8-bcd958583ad6"
   },
   "outputs": [
    {
     "name": "stdout",
     "output_type": "stream",
     "text": [
      "<class 'pandas.core.frame.DataFrame'>\n",
      "Int64Index: 680 entries, 0 to 890\n",
      "Data columns (total 8 columns):\n",
      "Pclass      680 non-null int64\n",
      "Sex         680 non-null int64\n",
      "Age         680 non-null int32\n",
      "SibSp       680 non-null int64\n",
      "Parch       680 non-null int64\n",
      "Fare        680 non-null int32\n",
      "Cabin       680 non-null int64\n",
      "Embarked    680 non-null int32\n",
      "dtypes: int32(3), int64(5)\n",
      "memory usage: 39.8 KB\n"
     ]
    }
   ],
   "source": [
    "x_data.info()"
   ]
  },
  {
   "cell_type": "markdown",
   "metadata": {},
   "source": [
    "## 3) 엑셀 파일로 저장하기"
   ]
  },
  {
   "cell_type": "code",
   "execution_count": 9,
   "metadata": {
    "colab": {
     "base_uri": "https://localhost:8080/",
     "height": 419
    },
    "id": "RnXx_mcfIMmv",
    "outputId": "2c436da0-5bee-40af-a3e2-7a8aea379d24",
    "scrolled": true
   },
   "outputs": [],
   "source": [
    "x_data.to_excel('x_data.xlsx',index=False, encoding='utf-8')"
   ]
  },
  {
   "cell_type": "markdown",
   "metadata": {},
   "source": [
    "# 2. Machine Learing"
   ]
  },
  {
   "cell_type": "markdown",
   "metadata": {},
   "source": [
    "## 1) 모델 비교하기"
   ]
  },
  {
   "cell_type": "code",
   "execution_count": 145,
   "metadata": {},
   "outputs": [],
   "source": [
    "# x_data = np.array(x_data)\n",
    "# y_data = np.array(y_data)"
   ]
  },
  {
   "cell_type": "code",
   "execution_count": 155,
   "metadata": {},
   "outputs": [],
   "source": [
    "from sklearn.model_selection import train_test_split\n",
    "from sklearn.linear_model import LogisticRegression, SGDClassifier\n",
    "from sklearn.svm import SVC, LinearSVC\n",
    "from sklearn.neighbors import KNeighborsClassifier\n",
    "from sklearn.naive_bayes import GaussianNB\n",
    "from sklearn.linear_model import Perceptron\n",
    "from sklearn.tree import DecisionTreeClassifier\n",
    "from sklearn.ensemble import RandomForestClassifier\n",
    "from sklearn.metrics import accuracy_score, classification_report, f1_score, recall_score, precision_score , roc_curve, auc\n",
    "\n"
   ]
  },
  {
   "cell_type": "code",
   "execution_count": 121,
   "metadata": {},
   "outputs": [],
   "source": [
    "# train/test\n",
    "x_train, x_test, y_train, y_test = train_test_split(\n",
    "    x_data, y_data, test_size=0.3, random_state=0)"
   ]
  },
  {
   "cell_type": "code",
   "execution_count": 182,
   "metadata": {},
   "outputs": [
    {
     "name": "stdout",
     "output_type": "stream",
     "text": [
      "Train Data 81.30252100840336 2\n",
      "Test Data 79.41176470588235 2\n",
      "Accuracy: 79.41176470588235 2\n",
      "F1 score: 72.36842105263158 2\n",
      "Recall: 68.75 2\n",
      "Precision: 76.38888888888889 2\n"
     ]
    }
   ],
   "source": [
    "# Logistic Regression\n",
    "\n",
    "logreg = LogisticRegression()\n",
    "logreg.fit(x_train, y_train)\n",
    "y_pred = logreg.predict(x_test)\n",
    "pred_test = logreg.predict_proba(x_test)\n",
    "print('Train Data',logreg.score(x_train, y_train) * 100)\n",
    "print('Test Data',logreg.score(x_test, y_test)*100)\n",
    "print ('Accuracy:', accuracy_score(y_pred,y_test)* 100)\n",
    "print ('F1 score:', f1_score( y_pred, y_test)* 100)\n",
    "print ('Recall:', recall_score(y_test, y_pred)* 100)\n",
    "print ('Precision:', precision_score(y_test, y_pred)* 100)\n"
   ]
  },
  {
   "cell_type": "code",
   "execution_count": 183,
   "metadata": {},
   "outputs": [
    {
     "data": {
      "image/png": "[encoded data removed]",
      "text/plain": [
       "<Figure size 720x720 with 1 Axes>"
      ]
     },
     "metadata": {
      "needs_background": "light"
     },
     "output_type": "display_data"
    }
   ],
   "source": [
    "from sklearn.metrics import roc_curve, auc\n",
    "\n",
    "fpr, tpr, _ = roc_curve(y_true=y_test, y_score=pred_test[:,1]) \n",
    "roc_auc = auc(fpr, tpr) \n",
    "roc_auc\n",
    "\n",
    "plt.figure(figsize=(10, 10))\n",
    "\n",
    "plt.plot(fpr, tpr, color='darkorange', lw=2, label='ROC curve (area = %0.2f)' % roc_auc)\n",
    "plt.plot([0, 1], [0, 1], color='navy', lw=2, linestyle='--')\n",
    "\n",
    "plt.xlim([0.0, 1.0])\n",
    "plt.ylim([0.0, 1.05])\n",
    "plt.xlabel('False Positive Rate')\n",
    "plt.ylabel('True Positive Rate')\n",
    "plt.legend(loc=\"lower right\")\n",
    "plt.title(\"ROC curve\")\n",
    "\n",
    "plt.show()"
   ]
  },
  {
   "cell_type": "code",
   "execution_count": 33,
   "metadata": {},
   "outputs": [
    {
     "name": "stdout",
     "output_type": "stream",
     "text": [
      "0.7941176470588235\n"
     ]
    }
   ],
   "source": [
    "# log_accuracy = accuracy_score(y_test,y_pred)\n",
    "# print(log_accuracy)"
   ]
  },
  {
   "cell_type": "code",
   "execution_count": 133,
   "metadata": {},
   "outputs": [
    {
     "name": "stdout",
     "output_type": "stream",
     "text": [
      "Train Data 89.49579831932773 2\n",
      "Test Data 78.43137254901961 2\n",
      "Accuracy: 78.43137254901961 2\n",
      "F1 score: 71.7948717948718 2\n",
      "Recall: 70.0 2\n",
      "Precision: 73.68421052631578 2\n"
     ]
    }
   ],
   "source": [
    "# Support Vector Machines\n",
    "\n",
    "svc = SVC(C=100, gamma=0.01)\n",
    "svc.fit(x_train, y_train)\n",
    "y_pred = svc.predict(x_test)\n",
    "print('Train Data',svc.score(x_train, y_train) * 100)\n",
    "print('Test Data',svc.score(x_test, y_test)*100)\n",
    "print ('Accuracy:', accuracy_score(y_test, y_pred)* 100)\n",
    "print ('F1 score:', f1_score(y_test, y_pred)* 100)\n",
    "print ('Recall:', recall_score(y_test, y_pred)* 100)\n",
    "print ('Precision:', precision_score(y_test, y_pred)* 100)"
   ]
  },
  {
   "cell_type": "code",
   "execution_count": 134,
   "metadata": {},
   "outputs": [
    {
     "name": "stdout",
     "output_type": "stream",
     "text": [
      "Train Data 80.46218487394958 2\n",
      "Test Data 72.05882352941177 2\n",
      "Accuracy: 72.05882352941177 2\n",
      "F1 score: 59.57446808510638 2\n",
      "Recall: 52.5 2\n",
      "Precision: 68.85245901639344 2\n"
     ]
    }
   ],
   "source": [
    "# KNN\n",
    "knn = KNeighborsClassifier(n_neighbors = 3)\n",
    "knn.fit(x_train, y_train)\n",
    "y_pred = knn.predict(x_test)\n",
    "print('Train Data',knn.score(x_train, y_train) * 100)\n",
    "print('Test Data',knn.score(x_test, y_test)*100)\n",
    "print ('Accuracy:', accuracy_score(y_test, y_pred)* 100)\n",
    "print ('F1 score:', f1_score(y_test, y_pred)* 100)\n",
    "print ('Recall:', recall_score(y_test, y_pred)* 100)\n",
    "print ('Precision:', precision_score(y_test, y_pred)* 100)"
   ]
  },
  {
   "cell_type": "code",
   "execution_count": 135,
   "metadata": {},
   "outputs": [
    {
     "name": "stdout",
     "output_type": "stream",
     "text": [
      "Train Data 78.78151260504201 2\n",
      "Test Data 80.88235294117648 2\n",
      "Accuracy: 80.88235294117648 2\n",
      "F1 score: 76.92307692307693 2\n",
      "Recall: 81.25 2\n",
      "Precision: 73.03370786516854 2\n"
     ]
    }
   ],
   "source": [
    "# Gaussian Naive Bayes\n",
    "\n",
    "gaussian = GaussianNB()\n",
    "gaussian.fit(x_train, y_train)\n",
    "y_pred = gaussian.predict(x_test)\n",
    "print('Train Data',gaussian.score(x_train, y_train) * 100)\n",
    "print('Test Data',gaussian.score(x_test, y_test)*100)\n",
    "print ('Accuracy:', accuracy_score(y_test, y_pred)* 100)\n",
    "print ('F1 score:', f1_score(y_test, y_pred)* 100)\n",
    "print ('Recall:', recall_score(y_test, y_pred)* 100)\n",
    "print ('Precision:', precision_score(y_test, y_pred)* 100)"
   ]
  },
  {
   "cell_type": "code",
   "execution_count": 136,
   "metadata": {},
   "outputs": [
    {
     "name": "stdout",
     "output_type": "stream",
     "text": [
      "Train Data 73.94957983193278 2\n",
      "Test Data 71.07843137254902 2\n",
      "Accuracy: 71.07843137254902 2\n",
      "F1 score: 52.03252032520326 2\n",
      "Recall: 40.0 2\n",
      "Precision: 74.4186046511628 2\n"
     ]
    }
   ],
   "source": [
    "# Perceptron\n",
    "\n",
    "perceptron = Perceptron()\n",
    "perceptron.fit(x_train, y_train)\n",
    "y_pred = perceptron.predict(x_test)\n",
    "print('Train Data',perceptron.score(x_train, y_train) * 100)\n",
    "print('Test Data',perceptron.score(x_test, y_test)*100)\n",
    "print ('Accuracy:', accuracy_score(y_test, y_pred)* 100)\n",
    "print ('F1 score:', f1_score(y_test, y_pred)* 100)\n",
    "print ('Recall:', recall_score(y_test, y_pred)* 100)\n",
    "print ('Precision:', precision_score(y_test, y_pred)* 100)\n"
   ]
  },
  {
   "cell_type": "code",
   "execution_count": 137,
   "metadata": {},
   "outputs": [
    {
     "name": "stdout",
     "output_type": "stream",
     "text": [
      "Train Data 80.67226890756302 2\n",
      "Test Data 80.3921568627451 2\n",
      "Accuracy: 80.3921568627451 2\n",
      "F1 score: 73.68421052631578 2\n",
      "Recall: 70.0 2\n",
      "Precision: 77.77777777777779 2\n"
     ]
    }
   ],
   "source": [
    "# Linear SVC\n",
    "\n",
    "linear_svc = LinearSVC()\n",
    "linear_svc.fit(x_train, y_train)\n",
    "y_pred = linear_svc.predict(x_test)\n",
    "print('Train Data',linear_svc.score(x_train, y_train) * 100)\n",
    "print('Test Data',linear_svc.score(x_test, y_test)*100)\n",
    "print ('Accuracy:', accuracy_score(y_test, y_pred)* 100)\n",
    "print ('F1 score:', f1_score(y_test, y_pred)* 100)\n",
    "print ('Recall:', recall_score(y_test, y_pred)* 100)\n",
    "print ('Precision:', precision_score(y_test, y_pred)* 100)"
   ]
  },
  {
   "cell_type": "code",
   "execution_count": 184,
   "metadata": {},
   "outputs": [
    {
     "name": "stdout",
     "output_type": "stream",
     "text": [
      "Train Data 71.63865546218487\n",
      "Test Data 66.17647058823529\n",
      "Accuracy: 66.17647058823529\n",
      "F1 score: 30.303030303030297\n",
      "Recall: 18.75\n",
      "Precision: 78.94736842105263\n"
     ]
    }
   ],
   "source": [
    "# Stochastic Gradient Descent\n",
    "\n",
    "sgd = SGDClassifier()\n",
    "sgd.fit(x_train, y_train)\n",
    "y_pred = sgd.predict(x_test)\n",
    "print('Train Data',sgd.score(x_train, y_train) * 100)\n",
    "print('Test Data',sgd.score(x_test, y_test)*100)\n",
    "print ('Accuracy:', accuracy_score(y_test, y_pred)* 100)\n",
    "print ('F1 score:', f1_score(y_test, y_pred)* 100)\n",
    "print ('Recall:', recall_score(y_test, y_pred)* 100)\n",
    "print ('Precision:', precision_score(y_test, y_pred)* 100)"
   ]
  },
  {
   "cell_type": "code",
   "execution_count": 139,
   "metadata": {},
   "outputs": [
    {
     "name": "stdout",
     "output_type": "stream",
     "text": [
      "Train Data 96.00840336134453 2\n",
      "Test Data 79.41176470588235 2\n",
      "Accuracy: 79.41176470588235 2\n",
      "F1 score: 73.41772151898734 2\n",
      "Recall: 72.5 2\n",
      "Precision: 74.35897435897436 2\n"
     ]
    }
   ],
   "source": [
    "# Decision Tree\n",
    "\n",
    "decision_tree = DecisionTreeClassifier()\n",
    "decision_tree.fit(x_train, y_train)\n",
    "y_pred = decision_tree.predict(x_test)\n",
    "print('Train Data',decision_tree.score(x_train, y_train) * 100)\n",
    "print('Test Data',decision_tree.score(x_test, y_test)*100)\n",
    "print ('Accuracy:', accuracy_score(y_test, y_pred)* 100)\n",
    "print ('F1 score:', f1_score(y_test, y_pred)* 100)\n",
    "print ('Recall:', recall_score(y_test, y_pred)* 100)\n",
    "print ('Precision:', precision_score(y_test, y_pred)* 100)"
   ]
  },
  {
   "cell_type": "code",
   "execution_count": 178,
   "metadata": {},
   "outputs": [
    {
     "name": "stdout",
     "output_type": "stream",
     "text": [
      "Train Data 96.00840336134453 2\n",
      "Test Data 81.86274509803921 2\n",
      "Accuracy: 81.86274509803921 2\n",
      "F1 score: 75.81699346405229 2\n",
      "Recall: 72.5 2\n",
      "Precision: 79.45205479452055 2\n"
     ]
    }
   ],
   "source": [
    "# Random Forest\n",
    "\n",
    "random_forest = RandomForestClassifier(n_estimators=100)\n",
    "random_forest.fit(x_train, y_train)\n",
    "y_pred = random_forest.predict(x_test)\n",
    "print('Train Data',random_forest.score(x_train, y_train) * 100)\n",
    "print('Test Data',random_forest.score(x_test, y_test)*100)\n",
    "print ('Accuracy:', accuracy_score(y_test, y_pred)* 100)\n",
    "print ('F1 score:', f1_score(y_test, y_pred)* 100)\n",
    "print ('Recall:', recall_score(y_test, y_pred)* 100)\n",
    "print ('Precision:', precision_score(y_test, y_pred)* 100)"
   ]
  },
  {
   "cell_type": "markdown",
   "metadata": {},
   "source": [
    "## 2) 모델 성능 개선"
   ]
  },
  {
   "cell_type": "markdown",
   "metadata": {},
   "source": [
    "### 2-1) Kernalized SVM"
   ]
  },
  {
   "cell_type": "code",
   "execution_count": 61,
   "metadata": {},
   "outputs": [
    {
     "name": "stdout",
     "output_type": "stream",
     "text": [
      "열마다의 최소값\n",
      "[0. 0. 0. 0. 0. 0. 0. 0.]\n",
      "열마다의 최대값\n",
      " [1. 1. 1. 1. 1. 1. 1. 1.]\n"
     ]
    }
   ],
   "source": [
    "#min-max\n",
    "min_on_training = x_train.min(axis=0) # 열마다의 최소값 계산\n",
    "range_on_training = (x_train - min_on_training).max(axis=0) # 분모에 해당 \n",
    "X_train_scaled = (x_train - min_on_training) / range_on_training # Min-max scaling (0~1)\n",
    "X_test_scaled = (x_test - min_on_training) / range_on_training\n",
    "\n",
    "print(\"열마다의 최소값\\n{}\".format(X_train_scaled.min(axis=0)))\n",
    "print(\"열마다의 최대값\\n {}\".format(X_train_scaled.max(axis=0)))"
   ]
  },
  {
   "cell_type": "code",
   "execution_count": 46,
   "metadata": {},
   "outputs": [],
   "source": [
    "# SVM Standardization\n",
    "\n",
    "# from sklearn.preprocessing import StandardScaler  \n",
    "\n",
    "# sc = StandardScaler()\n",
    "# sc.fit(x_train) \n",
    "\n",
    "# x_train_scaled = sc.transform(x_train)\n",
    "# x_test_scaled = sc.transform(x_test)"
   ]
  },
  {
   "cell_type": "code",
   "execution_count": 64,
   "metadata": {},
   "outputs": [
    {
     "name": "stdout",
     "output_type": "stream",
     "text": [
      "Fitting 3 folds for each of 25 candidates, totalling 75 fits\n"
     ]
    },
    {
     "name": "stderr",
     "output_type": "stream",
     "text": [
      "[Parallel(n_jobs=1)]: Using backend SequentialBackend with 1 concurrent workers.\n"
     ]
    },
    {
     "name": "stdout",
     "output_type": "stream",
     "text": [
      "The best parameters are  {'C': 0.1, 'gamma': 1, 'kernel': 'rbf'}\n"
     ]
    },
    {
     "name": "stderr",
     "output_type": "stream",
     "text": [
      "[Parallel(n_jobs=1)]: Done  75 out of  75 | elapsed:    0.9s finished\n"
     ]
    }
   ],
   "source": [
    "# SVM 최적 파라미터 찾기\n",
    "from sklearn.model_selection import GridSearchCV\n",
    "\n",
    "param_grid = {'C' : [0.1, 1, 10, 100, 1000], \n",
    "             'gamma' : [1, 0.1, 0.01, 0.001, 0.0001],\n",
    "             'kernel' : ['rbf']}\n",
    "\n",
    "grid = GridSearchCV(SVC(), param_grid, refit=True, verbose=1)\n",
    "\n",
    "grid.fit(X_train_scaled, y_train)\n",
    "print('The best parameters are ', grid.best_params_)"
   ]
  },
  {
   "cell_type": "code",
   "execution_count": 152,
   "metadata": {},
   "outputs": [
    {
     "name": "stdout",
     "output_type": "stream",
     "text": [
      "Accuracy on Training set: 0.819\n",
      "Accuracy on Test set: 0.794\n"
     ]
    }
   ],
   "source": [
    "svc = SVC(C=0.1, gamma=1, kernel = 'rbf')\n",
    "svc.fit(X_train_scaled, y_train)\n",
    "\n",
    "print(\"Accuracy on Training set: {:.3f}\".format(svc.score(X_train_scaled, y_train)))\n",
    "print(\"Accuracy on Test set: {:.3f}\".format(svc.score(X_test_scaled, y_test))) "
   ]
  },
  {
   "cell_type": "code",
   "execution_count": 66,
   "metadata": {},
   "outputs": [
    {
     "name": "stdout",
     "output_type": "stream",
     "text": [
      "              precision    recall  f1-score   support\n",
      "\n",
      "           0       0.80      0.88      0.84       124\n",
      "           1       0.78      0.66      0.72        80\n",
      "\n",
      "   micro avg       0.79      0.79      0.79       204\n",
      "   macro avg       0.79      0.77      0.78       204\n",
      "weighted avg       0.79      0.79      0.79       204\n",
      "\n",
      "Accuracy on Training set: 0.819\n",
      "Accuracy on Test set: 0.794\n"
     ]
    }
   ],
   "source": [
    "from sklearn.metrics import classification_report \n",
    "\n",
    "grid_predictions = grid.predict(X_test_scaled)\n",
    "\n",
    "print(classification_report(y_test, grid_predictions)) # Precision, Recall, F1-score 등을 확인할 수 있습니다.\n",
    "\n",
    "print(\"Accuracy on Training set: {:.3f}\".format(grid.score(X_train_scaled, y_train)))\n",
    "print(\"Accuracy on Test set: {:.3f}\".format(grid.score(X_test_scaled, y_test)))"
   ]
  },
  {
   "cell_type": "markdown",
   "metadata": {},
   "source": [
    "### 2-2) Logistic Regression"
   ]
  },
  {
   "cell_type": "code",
   "execution_count": 185,
   "metadata": {},
   "outputs": [],
   "source": [
    "titanic_X = x_data[:,(1,2)]\n",
    "titanic_Y = y_data"
   ]
  },
  {
   "cell_type": "code",
   "execution_count": 186,
   "metadata": {},
   "outputs": [],
   "source": [
    "x_train, x_test, y_train, y_test = model_selection.train_test_split(titanic_X,titanic_Y, test_size=0.3,random_state=0)"
   ]
  },
  {
   "cell_type": "code",
   "execution_count": 190,
   "metadata": {},
   "outputs": [
    {
     "name": "stdout",
     "output_type": "stream",
     "text": [
      "Accuracy:  0.7990196078431373\n"
     ]
    }
   ],
   "source": [
    "model = linear_model.LogisticRegression()\n",
    "\n",
    "# 5. Train the model \n",
    "model.fit(x_train, y_train)\n",
    "\n",
    "# 6. Test the model\n",
    "print('Accuracy: ', accuracy_score(model.predict(x_test), y_test))\n",
    "\n",
    "# 7. Visualize the model\n",
    "pred_test = model.predict_proba(x_test) # Predict 'probability'\n",
    "fpr, tpr, _ = roc_curve(y_true=y_test, y_score=pred_test[:,1]) # real y & predicted y (based on \"Sepal width\")\n",
    "roc_auc = auc(fpr, tpr) # AUC 면적의 값 (수치)\n"
   ]
  },
  {
   "cell_type": "code",
   "execution_count": 191,
   "metadata": {},
   "outputs": [
    {
     "name": "stdout",
     "output_type": "stream",
     "text": [
      "Accuracy: 79.90196078431373 2\n",
      "Accuracy: 79.90196078431373 2\n",
      "Accuracy: 79.90196078431373 2\n",
      "Accuracy: 79.90196078431373 2\n",
      "Accuracy: 79.90196078431373 2\n"
     ]
    }
   ],
   "source": [
    "C_param_range = [0.1,1,10,100,1000]\n",
    "\n",
    "for i in C_param_range:\n",
    "  logreg = LogisticRegression(penalty = 'l2', C = i,random_state = 0)\n",
    "  logreg.fit(x_train, y_train)\n",
    "  y_pred = logreg.predict(x_test)\n",
    "  print ('Accuracy:', accuracy_score(y_test, y_pred)* 100, 2)"
   ]
  },
  {
   "cell_type": "code",
   "execution_count": 192,
   "metadata": {
    "scrolled": true
   },
   "outputs": [
    {
     "name": "stdout",
     "output_type": "stream",
     "text": [
      "Train Data 81.9327731092437 2\n",
      "Test Data 79.90196078431373 2\n",
      "Accuracy: 79.90196078431373 2\n",
      "F1 score: 72.48322147651007 2\n",
      "Recall: 67.5 2\n",
      "Precision: 78.26086956521739 2\n"
     ]
    }
   ],
   "source": [
    "logreg = LogisticRegression(C=100)\n",
    "logreg.fit(x_train, y_train)\n",
    "y_pred = logreg.predict(x_test)\n",
    "pred_test = logreg.predict_proba(x_test)\n",
    "print('Train Data',logreg.score(x_train, y_train) * 100, 2)\n",
    "print('Test Data',logreg.score(x_test, y_test)*100, 2)\n",
    "print ('Accuracy:', accuracy_score(y_pred,y_test)* 100, 2)\n",
    "print ('F1 score:', f1_score( y_pred, y_test)* 100, 2)\n",
    "print ('Recall:', recall_score(y_test, y_pred)* 100, 2)\n",
    "print ('Precision:', precision_score(y_test, y_pred)* 100, 2)"
   ]
  },
  {
   "cell_type": "code",
   "execution_count": 193,
   "metadata": {},
   "outputs": [
    {
     "data": {
      "image/png": "[encoded data removed]",
      "text/plain": [
       "<Figure size 720x720 with 1 Axes>"
      ]
     },
     "metadata": {
      "needs_background": "light"
     },
     "output_type": "display_data"
    }
   ],
   "source": [
    "from sklearn.metrics import roc_curve, auc\n",
    "\n",
    "fpr, tpr, _ = roc_curve(y_true=y_test, y_score=pred_test[:,1]) \n",
    "roc_auc = auc(fpr, tpr) \n",
    "roc_auc\n",
    "\n",
    "plt.figure(figsize=(10, 10))\n",
    "\n",
    "plt.plot(fpr, tpr, color='darkorange', lw=2, label='ROC curve (area = %0.2f)' % roc_auc)\n",
    "plt.plot([0, 1], [0, 1], color='navy', lw=2, linestyle='--')\n",
    "\n",
    "plt.xlim([0.0, 1.0])\n",
    "plt.ylim([0.0, 1.05])\n",
    "plt.xlabel('False Positive Rate')\n",
    "plt.ylabel('True Positive Rate')\n",
    "plt.legend(loc=\"lower right\")\n",
    "plt.title(\"ROC curve\")\n",
    "\n",
    "plt.show()"
   ]
  },
  {
   "cell_type": "markdown",
   "metadata": {},
   "source": [
    "## 2-3) Random Forest"
   ]
  },
  {
   "cell_type": "code",
   "execution_count": 194,
   "metadata": {},
   "outputs": [],
   "source": [
    "rfc = RandomForestClassifier()"
   ]
  },
  {
   "cell_type": "code",
   "execution_count": 195,
   "metadata": {},
   "outputs": [
    {
     "name": "stdout",
     "output_type": "stream",
     "text": [
      "The best parameters are  {'max_depth': 4, 'n_estimators': 10}\n"
     ]
    }
   ],
   "source": [
    "\n",
    "# random forest 최적 파라미터 찾기\n",
    "from sklearn.model_selection import GridSearchCV\n",
    "\n",
    "parameters = {\n",
    "    \"n_estimators\":[5,10,50,100,250],\n",
    "    \"max_depth\":[2,4,8,16,32,None] }\n",
    "\n",
    "grid = GridSearchCV( RandomForestClassifier(), parameters, cv=5)\n",
    "\n",
    "grid.fit(X_train_scaled, y_train)\n",
    "print('The best parameters are ', grid.best_params_)"
   ]
  },
  {
   "cell_type": "code",
   "execution_count": 196,
   "metadata": {},
   "outputs": [
    {
     "name": "stdout",
     "output_type": "stream",
     "text": [
      "              precision    recall  f1-score   support\n",
      "\n",
      "           0       0.76      0.94      0.84       124\n",
      "           1       0.84      0.54      0.66        80\n",
      "\n",
      "   micro avg       0.78      0.78      0.78       204\n",
      "   macro avg       0.80      0.74      0.75       204\n",
      "weighted avg       0.79      0.78      0.77       204\n",
      "\n",
      "Train Data 84.45378151260505 2\n",
      "Test Data 77.45098039215686 2\n",
      "Accuracy: 77.45098039215686 2\n",
      "F1 score: 69.73684210526315 2\n",
      "Recall: 66.25 2\n",
      "Precision: 73.61111111111111 2\n"
     ]
    }
   ],
   "source": [
    "\n",
    "random_forest = RandomForestClassifier(n_estimators=100, max_depth=9)\n",
    "random_forest.fit(x_train, y_train)\n",
    "y_pred = random_forest.predict(x_test)\n",
    "\n",
    "grid_predictions = grid.predict(X_test_scaled)\n",
    "\n",
    "print(classification_report(y_test, grid_predictions))\n",
    "print('Train Data',random_forest.score(x_train, y_train) * 100, 2)\n",
    "print('Test Data',random_forest.score(x_test, y_test)*100, 2)\n",
    "print ('Accuracy:', accuracy_score(y_test, y_pred)* 100, 2)\n",
    "print ('F1 score:', f1_score(y_test, y_pred)* 100, 2)\n",
    "print ('Recall:', recall_score(y_test, y_pred)* 100, 2)\n",
    "print ('Precision:', precision_score(y_test, y_pred)* 100, 2)"
   ]
  },
  {
   "cell_type": "markdown",
   "metadata": {},
   "source": [
    "## 2-4) Decision Tree"
   ]
  },
  {
   "cell_type": "code",
   "execution_count": 197,
   "metadata": {},
   "outputs": [
    {
     "ename": "NameError",
     "evalue": "name 'export_graphviz' is not defined",
     "output_type": "error",
     "traceback": [
      "\u001b[1;31m---------------------------------------------------------------------------\u001b[0m",
      "\u001b[1;31mNameError\u001b[0m                                 Traceback (most recent call last)",
      "\u001b[1;32m<ipython-input-197-0cc60c6b18a6>\u001b[0m in \u001b[0;36m<module>\u001b[1;34m\u001b[0m\n\u001b[0;32m      1\u001b[0m \u001b[1;31m# export_graphviz( )의 호출 결과로 out_file로 지정된 tree.dot 파일을 생성함\u001b[0m\u001b[1;33m\u001b[0m\u001b[1;33m\u001b[0m\u001b[1;33m\u001b[0m\u001b[0m\n\u001b[1;32m----> 2\u001b[1;33m export_graphviz(decision_tree, out_file=\"tree.dot\", class_names = y_data, \n\u001b[0m\u001b[0;32m      3\u001b[0m                            feature_names = x_data.feature_names, impurity=True, filled=True)\n\u001b[0;32m      4\u001b[0m \u001b[1;33m\u001b[0m\u001b[0m\n\u001b[0;32m      5\u001b[0m \u001b[0mprint\u001b[0m\u001b[1;33m(\u001b[0m\u001b[1;34m'===============max_depth=3인 경우의 Decision Tree 시각화=================='\u001b[0m\u001b[1;33m)\u001b[0m\u001b[1;33m\u001b[0m\u001b[1;33m\u001b[0m\u001b[0m\n",
      "\u001b[1;31mNameError\u001b[0m: name 'export_graphviz' is not defined"
     ]
    }
   ],
   "source": [
    "# export_graphviz( )의 호출 결과로 out_file로 지정된 tree.dot 파일을 생성함\n",
    "export_graphviz(decision_tree, out_file=\"tree.dot\", class_names = y_data, \n",
    "                           feature_names = x_data.feature_names, impurity=True, filled=True)\n",
    "\n",
    "print('===============max_depth=3인 경우의 Decision Tree 시각화==================')\n",
    "import graphviz\n",
    "# 위에서 생성된 tree.dot 파일을 Graphiviz 가 읽어서 시각화\n",
    "with open(\"tree.dot\") as f:\n",
    "    dot_graph = f.read()\n",
    "graphviz.Source(dot_graph)"
   ]
  },
  {
   "cell_type": "code",
   "execution_count": null,
   "metadata": {},
   "outputs": [],
   "source": []
  }
 ],
 "metadata": {
  "colab": {
   "collapsed_sections": [],
   "name": "Semi.ipynb",
   "provenance": []
  },
  "kernelspec": {
   "display_name": "Python 3",
   "language": "python",
   "name": "python3"
  },
  "language_info": {
   "codemirror_mode": {
    "name": "ipython",
    "version": 3
   },
   "file_extension": ".py",
   "mimetype": "text/x-python",
   "name": "python",
   "nbconvert_exporter": "python",
   "pygments_lexer": "ipython3",
   "version": "3.7.3"
  }
 },
 "nbformat": 4,
 "nbformat_minor": 1
}
